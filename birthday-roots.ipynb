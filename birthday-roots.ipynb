{
 "cells": [
  {
   "cell_type": "markdown",
   "metadata": {},
   "source": [
    "Birthday Roots\n",
    "-------------\n",
    "\n",
    "Which year do you need to be born in so that you have a birthday year which is a power of your age? To find out, watch http://www.numberphile.com/videos/birth_years.html"
   ]
  },
  {
   "cell_type": "code",
   "execution_count": 4,
   "metadata": {
    "collapsed": false
   },
   "outputs": [
    {
     "name": "stdout",
     "output_type": "stream",
     "text": [
      "If you were born in 1892, you would be 44 in 1936, which equals 44^2.\n",
      "If you were born in 1980, you would be 45 in 2025, which equals 45^2.\n",
      "If you were born in 2070, you would be 46 in 2116, which equals 46^2.\n",
      "If you were born in 2162, you would be 47 in 2209, which equals 47^2.\n",
      "If you were born in 2184, you would be 13 in 2197, which equals 13^3.\n",
      "If you were born in 2184, you would be 3 in 2187, which equals 3^7.\n",
      "If you were born in 2046, you would be 2 in 2048, which equals 2^11.\n"
     ]
    }
   ],
   "source": [
    "from math import pow\n",
    "\n",
    "def birthday(root, min, max):\n",
    "        for n in range(1, int(pow(max, 1.0/root)) + 1):\n",
    "                N = int(pow(n, root))\n",
    "                if N >= min and N <= max:\n",
    "                        print(\"If you were born in %s, you would be %s in %s, which equals %s^%s.\" % (N-n, n, N, n, root))\n",
    "                \n",
    "for root in range(2, 100):\n",
    "        birthday(root, 1900, 2300)"
   ]
  }
 ],
 "metadata": {
  "kernelspec": {
   "display_name": "Python 3",
   "language": "python",
   "name": "python3"
  },
  "language_info": {
   "codemirror_mode": {
    "name": "ipython",
    "version": 3
   },
   "file_extension": ".py",
   "mimetype": "text/x-python",
   "name": "python",
   "nbconvert_exporter": "python",
   "pygments_lexer": "ipython3",
   "version": "3.4.3"
  }
 },
 "nbformat": 4,
 "nbformat_minor": 0
}
